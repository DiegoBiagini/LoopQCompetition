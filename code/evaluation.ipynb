{
 "cells": [
  {
   "cell_type": "markdown",
   "metadata": {},
   "source": [
    "This file as is works only with the train/validation split"
   ]
  },
  {
   "cell_type": "code",
   "execution_count": null,
   "metadata": {
    "execution": {
     "iopub.execute_input": "2022-05-28T10:34:29.822695Z",
     "iopub.status.busy": "2022-05-28T10:34:29.822404Z",
     "iopub.status.idle": "2022-05-28T10:34:29.828060Z",
     "shell.execute_reply": "2022-05-28T10:34:29.827294Z",
     "shell.execute_reply.started": "2022-05-28T10:34:29.822672Z"
    }
   },
   "outputs": [],
   "source": [
    "import torch\n",
    "from pathlib import Path\n",
    "import os\n",
    "import matplotlib.pyplot as plt\n",
    "import numpy as np\n",
    "from data_utils import SERDataset\n",
    "from sklearn.metrics import f1_score\n",
    "\n",
    "ipynb_path = os.path.dirname(os.path.realpath(\"__file__\"))\n",
    "cur_path = Path(ipynb_path)\n"
   ]
  },
  {
   "cell_type": "markdown",
   "metadata": {},
   "source": [
    "# Evaluate a model train history\n"
   ]
  },
  {
   "cell_type": "code",
   "execution_count": null,
   "metadata": {
    "execution": {
     "iopub.execute_input": "2022-05-28T10:34:30.942788Z",
     "iopub.status.busy": "2022-05-28T10:34:30.942170Z",
     "iopub.status.idle": "2022-05-28T10:34:30.960317Z",
     "shell.execute_reply": "2022-05-28T10:34:30.959278Z",
     "shell.execute_reply.started": "2022-05-28T10:34:30.942759Z"
    }
   },
   "outputs": [],
   "source": [
    "# Choose model and weights to load\n",
    "saved_model_path = (cur_path / \"saved_models\")\n",
    "load_checkpoint_path = (saved_model_path / \"MMFUSION_train\" / \"MMFUSION.tar\")\n",
    "\n",
    "from MMFUSION.data import load_inference_model\n"
   ]
  },
  {
   "cell_type": "code",
   "execution_count": null,
   "metadata": {
    "execution": {
     "iopub.execute_input": "2022-05-28T10:20:31.613119Z",
     "iopub.status.busy": "2022-05-28T10:20:31.612838Z",
     "iopub.status.idle": "2022-05-28T10:20:32.153203Z",
     "shell.execute_reply": "2022-05-28T10:20:32.151944Z",
     "shell.execute_reply.started": "2022-05-28T10:20:31.613095Z"
    }
   },
   "outputs": [],
   "source": [
    "# Load model\n",
    "model_collation, history = load_inference_model(load_checkpoint_path)\n",
    "\n",
    "# Show train history\n",
    "train_loss = [e[\"train_loss\"] for e in history]\n",
    "val_loss = [e[\"val_loss\"] for e in history]\n",
    "train_acc = [e[\"train_acc\"] for e in history]\n",
    "val_acc = [e[\"val_acc\"] for e in history]\n",
    "\n",
    "plt.title(\"Model Loss\")\n",
    "plt.plot(range(len(train_loss)), train_loss)\n",
    "plt.plot(range(len(val_loss)), val_loss)\n",
    "plt.show()\n",
    "\n",
    "plt.title(\"Model Accuracy\")\n",
    "plt.plot(range(len(train_acc)), train_acc)\n",
    "plt.plot(range(len(val_acc)), val_acc)\n",
    "plt.show()\n",
    "\n",
    "print(\"Best epoch for val accuracy:\", np.argmax(val_acc)+1)\n",
    "print(\"Best epoch for val loss:\", np.argmin(val_loss)+1)\n",
    "print(val_acc[123])"
   ]
  },
  {
   "cell_type": "markdown",
   "metadata": {},
   "source": [
    "# Evaluate a model on the validation set"
   ]
  },
  {
   "cell_type": "code",
   "execution_count": null,
   "metadata": {
    "execution": {
     "iopub.execute_input": "2022-05-28T10:33:55.802422Z",
     "iopub.status.busy": "2022-05-28T10:33:55.801974Z",
     "iopub.status.idle": "2022-05-28T10:33:55.824474Z",
     "shell.execute_reply": "2022-05-28T10:33:55.823528Z",
     "shell.execute_reply.started": "2022-05-28T10:33:55.802372Z"
    }
   },
   "outputs": [],
   "source": [
    "saved_model_path = (cur_path / \"saved_models\")\n",
    "load_checkpoint_path = (saved_model_path / \"MMFUSION_train\" / \"MMFUSION.tar\")\n",
    "\n",
    "from MMFUSION.data import load_inference_model, init_test_dataset\n",
    "\n",
    "device = \"cuda\"\n"
   ]
  },
  {
   "cell_type": "code",
   "execution_count": null,
   "metadata": {
    "execution": {
     "iopub.execute_input": "2022-05-28T10:30:26.598987Z",
     "iopub.status.busy": "2022-05-28T10:30:26.598630Z",
     "iopub.status.idle": "2022-05-28T10:30:37.778460Z",
     "shell.execute_reply": "2022-05-28T10:30:37.777487Z",
     "shell.execute_reply.started": "2022-05-28T10:30:26.598947Z"
    }
   },
   "outputs": [],
   "source": [
    "from torch.utils.data import DataLoader\n",
    "\n",
    "# Load model\n",
    "model_collation, history = load_inference_model(load_checkpoint_path)\n",
    "\n",
    "# Initialize dataset\n",
    "valset_info_path = (cur_path /\"datasets/labeled_data/2022challengeA_val.csv\" ).resolve()\n",
    "val_audio_folder_path = (cur_path / \"datasets/labeled_data/val\" ).resolve()\n",
    "\n",
    "t_dataset = init_test_dataset(valset_info_path, val_audio_folder_path, SERDataset)\n",
    "\n",
    "\n",
    "# Load model\n",
    "inference_model = model_collation[\"model\"].to(device)\n",
    "inference_model.eval()\n",
    "inference_pipeline = model_collation[\"inference_pipeline\"]\n",
    "\n",
    "# Batch and start evaluation\n",
    "batched_test = DataLoader(t_dataset, batch_size=6, shuffle=True, num_workers = 2)\n",
    "\n",
    "\n",
    "print(f\"Evaluating metrics on validation set\")\n",
    "y_preds = []\n",
    "ys = []\n",
    "for batch, batch_data in enumerate(batched_test):\n",
    "\n",
    "    X = inference_pipeline(batch_data[\"soundwave\"]).to(device)\n",
    "    #X = (x.to(device) for x in X)\n",
    "    y = batch_data[\"emotion\"].to(device)\n",
    "\n",
    "    probs = inference_model(X)\n",
    "\n",
    "    # Compute metrics\n",
    "    y_pred = torch.argmax(probs, dim=-1)\n",
    "\n",
    "    y_preds += [yp.item() for yp in y_pred] if len(y_pred.shape)>0 else [y_pred.item()]\n",
    "    ys += [y1.item() for y1 in y] if len(y.shape)>0 else [y.item()]\n",
    "    #print(batch)\n",
    "\n",
    "print(\"Results:\")\n",
    "print(\"F1 macro: \", f1_score(ys,y_preds, average=\"macro\"))\n",
    "print(\"Accuracy:\", np.mean(np.array(ys)==np.array(y_preds)))"
   ]
  }
 ],
 "metadata": {
  "interpreter": {
   "hash": "31f2aee4e71d21fbe5cf8b01ff0e069b9275f58929596ceb00d14d90e3e16cd6"
  },
  "kernelspec": {
   "display_name": "Python 3.9.2 64-bit",
   "language": "python",
   "name": "python3"
  },
  "language_info": {
   "codemirror_mode": {
    "name": "ipython",
    "version": 3
   },
   "file_extension": ".py",
   "mimetype": "text/x-python",
   "name": "python",
   "nbconvert_exporter": "python",
   "pygments_lexer": "ipython3",
   "version": "3.9.2"
  }
 },
 "nbformat": 4,
 "nbformat_minor": 4
}
